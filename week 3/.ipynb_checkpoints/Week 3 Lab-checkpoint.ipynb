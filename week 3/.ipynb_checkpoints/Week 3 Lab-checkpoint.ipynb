{
 "cells": [
  {
   "cell_type": "markdown",
   "id": "5d6d51e4",
   "metadata": {},
   "source": [
    "# Week 3 Lab\n",
    "\n",
    "### Lets go to the Titanic Dataset\n",
    "### https://www.kaggle.com/c/titanic/data\n",
    "\n",
    "### Build a K-NN model to predict survival\n"
   ]
  },
  {
   "cell_type": "markdown",
   "id": "bea99b41",
   "metadata": {},
   "source": [
    "### 1. Download the data and build a pandas DataFrame"
   ]
  },
  {
   "cell_type": "code",
   "execution_count": 2,
   "id": "17fe6029",
   "metadata": {},
   "outputs": [],
   "source": [
    "import pandas as pd\n",
    "import sklearn\n",
    "from sklearn.model_selection import train_test_split\n",
    "from sklearn.neighbors import KNeighborsClassifier"
   ]
  },
  {
   "cell_type": "code",
   "execution_count": null,
   "id": "030fd695",
   "metadata": {},
   "outputs": [],
   "source": []
  },
  {
   "cell_type": "markdown",
   "id": "6fcbd7b6",
   "metadata": {},
   "source": [
    "### 2. Split the data into testing and training and testing sets"
   ]
  },
  {
   "cell_type": "code",
   "execution_count": null,
   "id": "2369b9a4",
   "metadata": {},
   "outputs": [],
   "source": []
  },
  {
   "cell_type": "markdown",
   "id": "1d7608b9",
   "metadata": {},
   "source": [
    "### 3. Change the data types of columns, if necessary"
   ]
  },
  {
   "cell_type": "code",
   "execution_count": null,
   "id": "a823cc98",
   "metadata": {},
   "outputs": [],
   "source": []
  },
  {
   "cell_type": "markdown",
   "id": "6c7ca852",
   "metadata": {},
   "source": [
    "### 4. Build a KNN models with different numbers of neighbors.  What is the best accuracy you get (on testing set) ?"
   ]
  },
  {
   "cell_type": "code",
   "execution_count": null,
   "id": "7fe569cf",
   "metadata": {},
   "outputs": [],
   "source": []
  },
  {
   "cell_type": "markdown",
   "id": "5f743184",
   "metadata": {},
   "source": [
    "### 5. What accuracy would you get if you accidentally tested your accuracy on the TRAINING set ?"
   ]
  },
  {
   "cell_type": "code",
   "execution_count": null,
   "id": "1f22d9a5",
   "metadata": {},
   "outputs": [],
   "source": []
  },
  {
   "cell_type": "markdown",
   "id": "387a80f8-e121-498b-b51f-86f865e5f0a0",
   "metadata": {},
   "source": [
    "### 6. Define euclidean distance."
   ]
  },
  {
   "cell_type": "code",
   "execution_count": null,
   "id": "3f3f622d-7f70-4844-8e74-cd31bf4fc469",
   "metadata": {},
   "outputs": [],
   "source": []
  }
 ],
 "metadata": {
  "kernelspec": {
   "display_name": "Python 3 (ipykernel)",
   "language": "python",
   "name": "python3"
  },
  "language_info": {
   "codemirror_mode": {
    "name": "ipython",
    "version": 3
   },
   "file_extension": ".py",
   "mimetype": "text/x-python",
   "name": "python",
   "nbconvert_exporter": "python",
   "pygments_lexer": "ipython3",
   "version": "3.12.0"
  }
 },
 "nbformat": 4,
 "nbformat_minor": 5
}
